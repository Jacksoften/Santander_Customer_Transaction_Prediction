{
 "cells": [
  {
   "cell_type": "code",
   "execution_count": 2,
   "metadata": {
    "collapsed": true
   },
   "outputs": [],
   "source": [
    "import numpy as np\n",
    "import pandas as pd"
   ]
  },
  {
   "cell_type": "code",
   "execution_count": 3,
   "metadata": {
    "collapsed": true
   },
   "outputs": [],
   "source": [
    "train = pd.read_csv('./train.csv')"
   ]
  },
  {
   "cell_type": "code",
   "execution_count": 4,
   "metadata": {
    "scrolled": true
   },
   "outputs": [
    {
     "data": {
      "text/plain": [
       "74.0321"
      ]
     },
     "execution_count": 4,
     "metadata": {},
     "output_type": "execute_result"
    }
   ],
   "source": [
    "train.describe().loc['max',].max()"
   ]
  },
  {
   "cell_type": "code",
   "execution_count": 27,
   "metadata": {},
   "outputs": [
    {
     "data": {
      "text/html": [
       "<div>\n",
       "<style>\n",
       "    .dataframe thead tr:only-child th {\n",
       "        text-align: right;\n",
       "    }\n",
       "\n",
       "    .dataframe thead th {\n",
       "        text-align: left;\n",
       "    }\n",
       "\n",
       "    .dataframe tbody tr th {\n",
       "        vertical-align: top;\n",
       "    }\n",
       "</style>\n",
       "<table border=\"1\" class=\"dataframe\">\n",
       "  <thead>\n",
       "    <tr style=\"text-align: right;\">\n",
       "      <th></th>\n",
       "      <th>ID_code</th>\n",
       "      <th>target</th>\n",
       "      <th>var_0</th>\n",
       "      <th>var_1</th>\n",
       "      <th>var_2</th>\n",
       "      <th>var_3</th>\n",
       "      <th>var_4</th>\n",
       "      <th>var_5</th>\n",
       "      <th>var_6</th>\n",
       "      <th>var_7</th>\n",
       "      <th>...</th>\n",
       "      <th>var_190</th>\n",
       "      <th>var_191</th>\n",
       "      <th>var_192</th>\n",
       "      <th>var_193</th>\n",
       "      <th>var_194</th>\n",
       "      <th>var_195</th>\n",
       "      <th>var_196</th>\n",
       "      <th>var_197</th>\n",
       "      <th>var_198</th>\n",
       "      <th>var_199</th>\n",
       "    </tr>\n",
       "  </thead>\n",
       "  <tbody>\n",
       "    <tr>\n",
       "      <th>0</th>\n",
       "      <td>train_0</td>\n",
       "      <td>0</td>\n",
       "      <td>8.9255</td>\n",
       "      <td>-6.7863</td>\n",
       "      <td>11.9081</td>\n",
       "      <td>5.0930</td>\n",
       "      <td>11.4607</td>\n",
       "      <td>-9.2834</td>\n",
       "      <td>5.1187</td>\n",
       "      <td>18.6266</td>\n",
       "      <td>...</td>\n",
       "      <td>4.4354</td>\n",
       "      <td>3.9642</td>\n",
       "      <td>3.1364</td>\n",
       "      <td>1.6910</td>\n",
       "      <td>18.5227</td>\n",
       "      <td>-2.3978</td>\n",
       "      <td>7.8784</td>\n",
       "      <td>8.5635</td>\n",
       "      <td>12.7803</td>\n",
       "      <td>-1.0914</td>\n",
       "    </tr>\n",
       "    <tr>\n",
       "      <th>1</th>\n",
       "      <td>train_1</td>\n",
       "      <td>0</td>\n",
       "      <td>11.5006</td>\n",
       "      <td>-4.1473</td>\n",
       "      <td>13.8588</td>\n",
       "      <td>5.3890</td>\n",
       "      <td>12.3622</td>\n",
       "      <td>7.0433</td>\n",
       "      <td>5.6208</td>\n",
       "      <td>16.5338</td>\n",
       "      <td>...</td>\n",
       "      <td>7.6421</td>\n",
       "      <td>7.7214</td>\n",
       "      <td>2.5837</td>\n",
       "      <td>10.9516</td>\n",
       "      <td>15.4305</td>\n",
       "      <td>2.0339</td>\n",
       "      <td>8.1267</td>\n",
       "      <td>8.7889</td>\n",
       "      <td>18.3560</td>\n",
       "      <td>1.9518</td>\n",
       "    </tr>\n",
       "    <tr>\n",
       "      <th>2</th>\n",
       "      <td>train_2</td>\n",
       "      <td>0</td>\n",
       "      <td>8.6093</td>\n",
       "      <td>-2.7457</td>\n",
       "      <td>12.0805</td>\n",
       "      <td>7.8928</td>\n",
       "      <td>10.5825</td>\n",
       "      <td>-9.0837</td>\n",
       "      <td>6.9427</td>\n",
       "      <td>14.6155</td>\n",
       "      <td>...</td>\n",
       "      <td>2.9057</td>\n",
       "      <td>9.7905</td>\n",
       "      <td>1.6704</td>\n",
       "      <td>1.6858</td>\n",
       "      <td>21.6042</td>\n",
       "      <td>3.1417</td>\n",
       "      <td>-6.5213</td>\n",
       "      <td>8.2675</td>\n",
       "      <td>14.7222</td>\n",
       "      <td>0.3965</td>\n",
       "    </tr>\n",
       "    <tr>\n",
       "      <th>3</th>\n",
       "      <td>train_3</td>\n",
       "      <td>0</td>\n",
       "      <td>11.0604</td>\n",
       "      <td>-2.1518</td>\n",
       "      <td>8.9522</td>\n",
       "      <td>7.1957</td>\n",
       "      <td>12.5846</td>\n",
       "      <td>-1.8361</td>\n",
       "      <td>5.8428</td>\n",
       "      <td>14.9250</td>\n",
       "      <td>...</td>\n",
       "      <td>4.4666</td>\n",
       "      <td>4.7433</td>\n",
       "      <td>0.7178</td>\n",
       "      <td>1.4214</td>\n",
       "      <td>23.0347</td>\n",
       "      <td>-1.2706</td>\n",
       "      <td>-2.9275</td>\n",
       "      <td>10.2922</td>\n",
       "      <td>17.9697</td>\n",
       "      <td>-8.9996</td>\n",
       "    </tr>\n",
       "    <tr>\n",
       "      <th>4</th>\n",
       "      <td>train_4</td>\n",
       "      <td>0</td>\n",
       "      <td>9.8369</td>\n",
       "      <td>-1.4834</td>\n",
       "      <td>12.8746</td>\n",
       "      <td>6.6375</td>\n",
       "      <td>12.2772</td>\n",
       "      <td>2.4486</td>\n",
       "      <td>5.9405</td>\n",
       "      <td>19.2514</td>\n",
       "      <td>...</td>\n",
       "      <td>-1.4905</td>\n",
       "      <td>9.5214</td>\n",
       "      <td>-0.1508</td>\n",
       "      <td>9.1942</td>\n",
       "      <td>13.2876</td>\n",
       "      <td>-1.5121</td>\n",
       "      <td>3.9267</td>\n",
       "      <td>9.5031</td>\n",
       "      <td>17.9974</td>\n",
       "      <td>-8.8104</td>\n",
       "    </tr>\n",
       "  </tbody>\n",
       "</table>\n",
       "<p>5 rows × 202 columns</p>\n",
       "</div>"
      ],
      "text/plain": [
       "   ID_code  target    var_0   var_1    var_2   var_3    var_4   var_5   var_6  \\\n",
       "0  train_0       0   8.9255 -6.7863  11.9081  5.0930  11.4607 -9.2834  5.1187   \n",
       "1  train_1       0  11.5006 -4.1473  13.8588  5.3890  12.3622  7.0433  5.6208   \n",
       "2  train_2       0   8.6093 -2.7457  12.0805  7.8928  10.5825 -9.0837  6.9427   \n",
       "3  train_3       0  11.0604 -2.1518   8.9522  7.1957  12.5846 -1.8361  5.8428   \n",
       "4  train_4       0   9.8369 -1.4834  12.8746  6.6375  12.2772  2.4486  5.9405   \n",
       "\n",
       "     var_7   ...     var_190  var_191  var_192  var_193  var_194  var_195  \\\n",
       "0  18.6266   ...      4.4354   3.9642   3.1364   1.6910  18.5227  -2.3978   \n",
       "1  16.5338   ...      7.6421   7.7214   2.5837  10.9516  15.4305   2.0339   \n",
       "2  14.6155   ...      2.9057   9.7905   1.6704   1.6858  21.6042   3.1417   \n",
       "3  14.9250   ...      4.4666   4.7433   0.7178   1.4214  23.0347  -1.2706   \n",
       "4  19.2514   ...     -1.4905   9.5214  -0.1508   9.1942  13.2876  -1.5121   \n",
       "\n",
       "   var_196  var_197  var_198  var_199  \n",
       "0   7.8784   8.5635  12.7803  -1.0914  \n",
       "1   8.1267   8.7889  18.3560   1.9518  \n",
       "2  -6.5213   8.2675  14.7222   0.3965  \n",
       "3  -2.9275  10.2922  17.9697  -8.9996  \n",
       "4   3.9267   9.5031  17.9974  -8.8104  \n",
       "\n",
       "[5 rows x 202 columns]"
      ]
     },
     "execution_count": 27,
     "metadata": {},
     "output_type": "execute_result"
    }
   ],
   "source": [
    "train.head()"
   ]
  },
  {
   "cell_type": "code",
   "execution_count": 5,
   "metadata": {
    "collapsed": true
   },
   "outputs": [],
   "source": [
    "xmax, xmin = train.describe().loc['max',].max(), train.describe().loc['min',].min()"
   ]
  },
  {
   "cell_type": "code",
   "execution_count": 6,
   "metadata": {
    "scrolled": true
   },
   "outputs": [
    {
     "name": "stdout",
     "output_type": "stream",
     "text": [
      "max: 74.0321, min: -90.2525\n"
     ]
    }
   ],
   "source": [
    "print(\"max: {}, min: {}\".format(xmax, xmin))"
   ]
  },
  {
   "cell_type": "code",
   "execution_count": 7,
   "metadata": {
    "collapsed": true
   },
   "outputs": [],
   "source": [
    "features = train.drop([\"ID_code\", \"target\"], axis=1)"
   ]
  },
  {
   "cell_type": "code",
   "execution_count": 35,
   "metadata": {},
   "outputs": [],
   "source": [
    "target1 = train['target'] == 1\n",
    "target0 = train['target'] == 0"
   ]
  },
  {
   "cell_type": "code",
   "execution_count": 8,
   "metadata": {
    "collapsed": true
   },
   "outputs": [],
   "source": [
    "varnames = list(features.columns)"
   ]
  },
  {
   "cell_type": "code",
   "execution_count": 37,
   "metadata": {
    "scrolled": false
   },
   "outputs": [
    {
     "data": {
      "image/png": "[encoded data removed]",
      "text/plain": [
       "<matplotlib.figure.Figure at 0x1159b2e80>"
      ]
     },
     "metadata": {},
     "output_type": "display_data"
    }
   ],
   "source": [
    "for var in varnames:\n",
    "    plt.hist(features[var].loc[target1], alpha=0.05, range=[xmin,xmax], color='blue')\n",
    "    plt.hist(features[var].loc[target0], alpha=0.05, range=[xmin,xmax], color='red')\n",
    "plt.show()"
   ]
  },
  {
   "cell_type": "code",
   "execution_count": 38,
   "metadata": {},
   "outputs": [
    {
     "data": {
      "image/png": "[encoded data removed]",
      "text/plain": [
       "<matplotlib.figure.Figure at 0x1159b21d0>"
      ]
     },
     "metadata": {},
     "output_type": "display_data"
    }
   ],
   "source": [
    "for var in varnames:\n",
    "    plt.hist(features[var].loc[target1], alpha=0.05, range=[xmin,xmax], color='blue')\n",
    "plt.show()"
   ]
  },
  {
   "cell_type": "code",
   "execution_count": 39,
   "metadata": {},
   "outputs": [
    {
     "data": {
      "image/png": "[encoded data removed]",
      "text/plain": [
       "<matplotlib.figure.Figure at 0x10972ae48>"
      ]
     },
     "metadata": {},
     "output_type": "display_data"
    }
   ],
   "source": [
    "for var in varnames:\n",
    "    plt.hist(features[var].loc[target0], alpha=0.05, range=[xmin,xmax], color='red')\n",
    "plt.show()"
   ]
  },
  {
   "cell_type": "code",
   "execution_count": 44,
   "metadata": {},
   "outputs": [],
   "source": [
    "import seaborn as sns\n",
    "ax = sns.heatmap(features)"
   ]
  },
  {
   "cell_type": "code",
   "execution_count": 69,
   "metadata": {},
   "outputs": [
    {
     "data": {
      "image/png": "[encoded data removed]",
      "text/plain": [
       "<matplotlib.figure.Figure at 0x1152de0b8>"
      ]
     },
     "metadata": {},
     "output_type": "display_data"
    }
   ],
   "source": [
    "plt.figure(figsize=(10,10))\n",
    "plt.matshow(correlation, fignum=1)\n",
    "plt.show()"
   ]
  },
  {
   "cell_type": "code",
   "execution_count": 67,
   "metadata": {},
   "outputs": [
    {
     "name": "stdout",
     "output_type": "stream",
     "text": [
      "            var_0     var_1     var_2     var_3     var_4     var_5  \\\n",
      "var_0    1.000000 -0.000544  0.006573  0.003801  0.001326  0.003046   \n",
      "var_1   -0.000544  1.000000  0.003980  0.000010  0.000303 -0.000902   \n",
      "var_2    0.006573  0.003980  1.000000  0.001001  0.000723  0.001569   \n",
      "var_3    0.003801  0.000010  0.001001  1.000000 -0.000322  0.003253   \n",
      "var_4    0.001326  0.000303  0.000723 -0.000322  1.000000 -0.001368   \n",
      "var_5    0.003046 -0.000902  0.001569  0.003253 -0.001368  1.000000   \n",
      "var_6    0.006983  0.003258  0.000883 -0.000774  0.000049  0.002588   \n",
      "var_7    0.002429  0.001511 -0.000991  0.002500  0.004549 -0.000995   \n",
      "var_8    0.004962  0.004098  0.002648  0.003553  0.001194  0.000147   \n",
      "var_9   -0.002613 -0.000832 -0.001932 -0.000826 -0.000918 -0.005279   \n",
      "var_10   0.000355  0.002875 -0.000474 -0.000897 -0.003445  0.000332   \n",
      "var_11   0.003468  0.004778  0.005180  0.000482  0.000780 -0.001072   \n",
      "var_12  -0.001996 -0.001977 -0.003781 -0.001794  0.000333 -0.000325   \n",
      "var_13  -0.002717 -0.001303 -0.008795 -0.005717  0.002298 -0.003540   \n",
      "var_14  -0.004584 -0.001544 -0.002627  0.000534 -0.000919 -0.000620   \n",
      "var_15  -0.000043  0.004946  0.004063  0.003093 -0.000527  0.003236   \n",
      "var_16   0.001112 -0.002481  0.000102  0.003011  0.001264 -0.000460   \n",
      "var_17  -0.001664 -0.001180  0.000841  0.003618 -0.000306 -0.002670   \n",
      "var_18   0.004292  0.000289  0.003529  0.000995  0.000895  0.000639   \n",
      "var_19   0.001505  0.001246  0.001643 -0.000481  0.000586  0.000885   \n",
      "var_20  -0.000932 -0.002255  0.002162  0.003385  0.000235 -0.000046   \n",
      "var_21   0.000781 -0.001519 -0.006885 -0.000037  0.000575 -0.004115   \n",
      "var_22   0.002322  0.001762  0.000297 -0.002905 -0.003167  0.001177   \n",
      "var_23  -0.000987  0.003606  0.002280  0.001633  0.001963  0.001174   \n",
      "var_24   0.003658  0.001417  0.001693 -0.002006  0.003874 -0.000168   \n",
      "var_25   0.001158  0.000844 -0.000913 -0.002307  0.001686 -0.002812   \n",
      "var_26   0.006117  0.004778  0.006138  0.001946  0.001286  0.004104   \n",
      "var_27   0.000985 -0.004551  0.000224 -0.001970 -0.001692  0.002713   \n",
      "var_28   0.001081 -0.002463 -0.000424 -0.003186 -0.000036  0.000307   \n",
      "var_29  -0.000426  0.006328  0.000480  0.001003  0.002694  0.002291   \n",
      "...           ...       ...       ...       ...       ...       ...   \n",
      "var_170  0.002574  0.001036  0.003445 -0.003915  0.000186  0.002664   \n",
      "var_171  0.001678  0.004399 -0.000273  0.000810 -0.007080 -0.002836   \n",
      "var_172 -0.005587 -0.002802  0.001126  0.000391  0.000813 -0.004309   \n",
      "var_173  0.002499  0.002784  0.000710  0.000896 -0.000979  0.002448   \n",
      "var_174 -0.000683 -0.004758 -0.006836 -0.001661 -0.000577 -0.001304   \n",
      "var_175 -0.000546  0.001693 -0.001028  0.000777  0.001525  0.002841   \n",
      "var_176  0.001197 -0.001331  0.000362  0.002612  0.000484 -0.002574   \n",
      "var_177  0.000953  0.002266 -0.004572 -0.002112 -0.002670 -0.001776   \n",
      "var_178  0.001165 -0.002005 -0.003408  0.003307  0.000021  0.000375   \n",
      "var_179  0.003447  0.000883  0.001823 -0.000462  0.000302 -0.005686   \n",
      "var_180  0.001939  0.003376  0.002365 -0.003653 -0.002452 -0.000495   \n",
      "var_181  0.001952  0.000008 -0.002341  0.000037 -0.002814 -0.001518   \n",
      "var_182 -0.001957  0.001516 -0.001202  0.000629  0.000016  0.001121   \n",
      "var_183 -0.001721  0.001055  0.002198  0.003642 -0.002027  0.001875   \n",
      "var_184 -0.000554 -0.000248  0.003259 -0.001153 -0.004623  0.002998   \n",
      "var_185  0.001868  0.002600  0.003372 -0.001247  0.000176 -0.002092   \n",
      "var_186  0.001267  0.002227 -0.001282  0.003210  0.000622 -0.000132   \n",
      "var_187  0.001413 -0.000236  0.002799 -0.000505  0.002529 -0.001106   \n",
      "var_188  0.001770 -0.002185  0.000008  0.000289  0.000926 -0.000276   \n",
      "var_189  0.000543  0.005840  0.002448 -0.001066  0.002004  0.003064   \n",
      "var_190  0.002752  0.006627  0.000197  0.000151  0.001514  0.001466   \n",
      "var_191  0.000206  0.003621  0.001285  0.002445  0.004357 -0.000022   \n",
      "var_192 -0.005373 -0.002604 -0.003400 -0.001530  0.003347  0.001116   \n",
      "var_193  0.001616  0.001153  0.000549 -0.001699  0.000813 -0.002237   \n",
      "var_194 -0.001514 -0.002557  0.002104 -0.001054 -0.000068 -0.002543   \n",
      "var_195  0.002073 -0.000785 -0.001070  0.001206  0.003706 -0.001274   \n",
      "var_196  0.004386 -0.000377  0.003952 -0.002800  0.000513  0.002880   \n",
      "var_197 -0.000753 -0.004157  0.001078  0.001164 -0.000046 -0.000535   \n",
      "var_198 -0.005776 -0.004861 -0.000877 -0.001651 -0.001821 -0.000953   \n",
      "var_199  0.003850  0.002287  0.003855  0.000506 -0.000786  0.002767   \n",
      "\n",
      "                var_6     var_7     var_8     var_9    ...      var_190  \\\n",
      "var_0    6.982549e-03  0.002429  0.004962 -0.002613    ...     0.002752   \n",
      "var_1    3.257729e-03  0.001511  0.004098 -0.000832    ...     0.006627   \n",
      "var_2    8.825211e-04 -0.000991  0.002648 -0.001932    ...     0.000197   \n",
      "var_3   -7.743892e-04  0.002500  0.003553 -0.000826    ...     0.000151   \n",
      "var_4    4.882529e-05  0.004549  0.001194 -0.000918    ...     0.001514   \n",
      "var_5    2.587780e-03 -0.000995  0.000147 -0.005279    ...     0.001466   \n",
      "var_6    1.000000e+00 -0.002548 -0.001188 -0.005697    ...     0.000721   \n",
      "var_7   -2.547746e-03  1.000000  0.000814  0.002885    ...    -0.000337   \n",
      "var_8   -1.187995e-03  0.000814  1.000000 -0.001073    ...     0.002923   \n",
      "var_9   -5.696919e-03  0.002885 -0.001073  1.000000    ...    -0.000871   \n",
      "var_10   1.503099e-03  0.000359 -0.000750  0.001553    ...     0.000085   \n",
      "var_11  -5.486462e-04  0.000905 -0.001795 -0.003841    ...     0.002299   \n",
      "var_12  -3.375982e-03  0.002463 -0.004330  0.001863    ...     0.002374   \n",
      "var_13  -5.506370e-03  0.003717 -0.002239 -0.000119    ...    -0.000363   \n",
      "var_14  -2.692727e-03 -0.000214  0.001234  0.002019    ...     0.000166   \n",
      "var_15   1.811175e-03  0.000917  0.004312 -0.006054    ...     0.003582   \n",
      "var_16   2.594353e-03  0.000982  0.000783 -0.001665    ...     0.000557   \n",
      "var_17   6.782693e-04 -0.001570  0.002855  0.000984    ...     0.003832   \n",
      "var_18   1.998415e-03  0.000198 -0.000369 -0.000570    ...     0.002815   \n",
      "var_19   1.236699e-03  0.004030  0.000089 -0.000316    ...     0.001659   \n",
      "var_20  -3.874311e-03 -0.002362 -0.001400 -0.002297    ...     0.000715   \n",
      "var_21  -4.874859e-03 -0.000611 -0.003147  0.001035    ...    -0.002349   \n",
      "var_22   2.248964e-03 -0.002430  0.004329 -0.005428    ...     0.003199   \n",
      "var_23  -3.764118e-03  0.002682  0.001852  0.001751    ...     0.000595   \n",
      "var_24   3.376412e-03 -0.000436  0.000906 -0.004069    ...    -0.001664   \n",
      "var_25  -3.907546e-04  0.000211  0.004222  0.004238    ...     0.000538   \n",
      "var_26   4.878163e-03 -0.001985  0.002295 -0.004573    ...     0.002837   \n",
      "var_27   1.604726e-03  0.001701  0.000759 -0.000287    ...     0.000792   \n",
      "var_28   1.344682e-03  0.003225  0.004372 -0.002689    ...    -0.001971   \n",
      "var_29  -3.005674e-03 -0.002538 -0.001461 -0.001040    ...     0.003061   \n",
      "...               ...       ...       ...       ...    ...          ...   \n",
      "var_170  2.327298e-03 -0.002159  0.002572 -0.000920    ...     0.003533   \n",
      "var_171  2.418232e-03 -0.002607  0.001080  0.003953    ...     0.007570   \n",
      "var_172 -6.036977e-04  0.001792 -0.005043 -0.000311    ...    -0.001456   \n",
      "var_173 -5.942735e-08 -0.000583  0.001088 -0.004578    ...    -0.000535   \n",
      "var_174 -5.838427e-03 -0.002979 -0.001510  0.001110    ...    -0.004639   \n",
      "var_175  1.488703e-03  0.000257 -0.000411 -0.001979    ...     0.001213   \n",
      "var_176  3.628451e-03 -0.000303  0.002278  0.002531    ...    -0.003470   \n",
      "var_177 -1.282888e-03  0.001566 -0.003845 -0.000545    ...    -0.006591   \n",
      "var_178  9.122592e-05  0.001182  0.000649  0.001652    ...    -0.003831   \n",
      "var_179 -1.083177e-03 -0.000178  0.001923 -0.003237    ...     0.002017   \n",
      "var_180 -1.327168e-04  0.000149  0.000400  0.000126    ...    -0.000962   \n",
      "var_181  9.875453e-04  0.002293  0.000345 -0.002632    ...     0.001384   \n",
      "var_182  6.022236e-04  0.002590 -0.000260  0.002441    ...     0.001846   \n",
      "var_183  2.548808e-04  0.003907  0.001826 -0.000867    ...    -0.003261   \n",
      "var_184  3.793740e-03 -0.002067  0.002428 -0.004110    ...     0.004254   \n",
      "var_185  1.168879e-03  0.002125 -0.003028 -0.000042    ...    -0.000656   \n",
      "var_186 -4.722911e-03 -0.001653 -0.005311  0.000699    ...    -0.002840   \n",
      "var_187 -8.944772e-04  0.000120 -0.002686  0.002530    ...    -0.002656   \n",
      "var_188 -2.597822e-03  0.000822  0.001673  0.003665    ...    -0.001494   \n",
      "var_189 -2.368220e-03  0.003694 -0.000275  0.000146    ...    -0.000482   \n",
      "var_190  7.213321e-04 -0.000337  0.002923 -0.000871    ...     1.000000   \n",
      "var_191  5.604217e-03 -0.003957 -0.001151 -0.002371    ...     0.002386   \n",
      "var_192 -2.562816e-03  0.001733 -0.000429 -0.000014    ...     0.001339   \n",
      "var_193  2.463706e-03  0.003219  0.001414 -0.001407    ...    -0.003886   \n",
      "var_194 -1.140816e-03 -0.000270  0.001313  0.003099    ...    -0.001878   \n",
      "var_195  1.243768e-03  0.001854  0.001396 -0.000868    ...     0.004571   \n",
      "var_196  5.378485e-03  0.001045 -0.003242  0.000052    ...    -0.000847   \n",
      "var_197 -3.565184e-03  0.003466 -0.004583  0.003701    ...    -0.004974   \n",
      "var_198 -3.024674e-03  0.000650  0.002950  0.002343    ...    -0.000153   \n",
      "var_199  6.096300e-03 -0.001457  0.000854  0.001070    ...    -0.000404   \n",
      "\n",
      "          var_191   var_192   var_193   var_194   var_195   var_196   var_197  \\\n",
      "var_0    0.000206 -0.005373  0.001616 -0.001514  0.002073  0.004386 -0.000753   \n",
      "var_1    0.003621 -0.002604  0.001153 -0.002557 -0.000785 -0.000377 -0.004157   \n",
      "var_2    0.001285 -0.003400  0.000549  0.002104 -0.001070  0.003952  0.001078   \n",
      "var_3    0.002445 -0.001530 -0.001699 -0.001054  0.001206 -0.002800  0.001164   \n",
      "var_4    0.004357  0.003347  0.000813 -0.000068  0.003706  0.000513 -0.000046   \n",
      "var_5   -0.000022  0.001116 -0.002237 -0.002543 -0.001274  0.002880 -0.000535   \n",
      "var_6    0.005604 -0.002563  0.002464 -0.001141  0.001244  0.005378 -0.003565   \n",
      "var_7   -0.003957  0.001733  0.003219 -0.000270  0.001854  0.001045  0.003466   \n",
      "var_8   -0.001151 -0.000429  0.001414  0.001313  0.001396 -0.003242 -0.004583   \n",
      "var_9   -0.002371 -0.000014 -0.001407  0.003099 -0.000868  0.000052  0.003701   \n",
      "var_10  -0.003206  0.000260 -0.000256  0.000843 -0.000204 -0.002243  0.002680   \n",
      "var_11  -0.001298 -0.001192 -0.000881 -0.002356 -0.000501  0.006086 -0.005642   \n",
      "var_12  -0.004543  0.003527  0.001867 -0.000090  0.000721 -0.002249  0.002946   \n",
      "var_13  -0.001452 -0.002237  0.003665  0.001592 -0.006739 -0.001792 -0.004304   \n",
      "var_14   0.000757  0.002912  0.003790 -0.001711 -0.002081  0.000639  0.003843   \n",
      "var_15  -0.004231 -0.002618  0.000811  0.000142 -0.001442  0.001268 -0.001167   \n",
      "var_16   0.000742  0.001268 -0.003401  0.000732  0.003222 -0.000405  0.001704   \n",
      "var_17  -0.001792 -0.002563 -0.001621 -0.001208 -0.000691 -0.001484 -0.000425   \n",
      "var_18   0.003587 -0.007355  0.000316  0.000618  0.006409  0.004927 -0.003269   \n",
      "var_19   0.003059  0.001645  0.003283 -0.001154 -0.000721 -0.002899 -0.000325   \n",
      "var_20  -0.001261  0.000396 -0.001155 -0.003702  0.001853  0.000531  0.000335   \n",
      "var_21  -0.002436  0.000640  0.001769  0.000998 -0.003916 -0.003316  0.002419   \n",
      "var_22  -0.000231 -0.001101 -0.000630  0.002985  0.001618 -0.000147  0.002285   \n",
      "var_23  -0.001138  0.006646 -0.000011  0.001193 -0.001793  0.000748 -0.001586   \n",
      "var_24  -0.000363  0.003448  0.003698  0.003553  0.001365  0.002193  0.004293   \n",
      "var_25  -0.000063 -0.001795  0.003385 -0.001059  0.000093  0.000008  0.002041   \n",
      "var_26   0.000113 -0.000380  0.001913 -0.004273  0.001488  0.000300 -0.004430   \n",
      "var_27   0.001802  0.003442  0.000253 -0.001118 -0.003153 -0.001198  0.000005   \n",
      "var_28  -0.003795  0.000808  0.002092 -0.000462  0.002108 -0.001430 -0.001648   \n",
      "var_29  -0.000410  0.002500 -0.001017  0.000328 -0.002753  0.003636  0.002707   \n",
      "...           ...       ...       ...       ...       ...       ...       ...   \n",
      "var_170  0.001397 -0.003700 -0.001268 -0.003137  0.000752 -0.002071  0.005171   \n",
      "var_171  0.000144 -0.000284 -0.004311 -0.002582  0.002225 -0.000028 -0.002478   \n",
      "var_172  0.002754  0.003414  0.008163  0.001774 -0.000904  0.001377  0.000754   \n",
      "var_173  0.000786 -0.003278 -0.005466 -0.002586  0.003928  0.000662 -0.005428   \n",
      "var_174 -0.003262  0.002385 -0.000734  0.003560 -0.003532 -0.001449 -0.000391   \n",
      "var_175 -0.000813  0.000588  0.001046 -0.001544 -0.002869  0.002070 -0.003062   \n",
      "var_176 -0.000513 -0.004594 -0.000250 -0.001405 -0.003905  0.000963 -0.000055   \n",
      "var_177 -0.003111 -0.000661  0.000040 -0.004512 -0.004543 -0.000503  0.000470   \n",
      "var_178 -0.003089  0.001094  0.000646  0.002387 -0.002347  0.002288 -0.002700   \n",
      "var_179  0.006879  0.000006 -0.002022 -0.001880 -0.000993  0.002740  0.003045   \n",
      "var_180  0.006295 -0.002815 -0.002295 -0.002509 -0.000241  0.001153 -0.002536   \n",
      "var_181 -0.001379 -0.001130  0.000327 -0.002983 -0.000059 -0.001575  0.000755   \n",
      "var_182 -0.000466 -0.000266  0.000430 -0.000789 -0.002795  0.002760  0.001797   \n",
      "var_183 -0.001435  0.000718 -0.000378 -0.001154  0.002653 -0.002535  0.000617   \n",
      "var_184  0.004921  0.000315 -0.002472 -0.000762  0.001828  0.001539  0.001931   \n",
      "var_185  0.001708  0.002127 -0.000188 -0.002099  0.000490 -0.000227  0.000108   \n",
      "var_186 -0.003873 -0.000798  0.002692  0.004633  0.001357 -0.000319  0.003362   \n",
      "var_187 -0.000139 -0.003770  0.003021 -0.000478 -0.001750  0.001610  0.001030   \n",
      "var_188 -0.002971 -0.004889 -0.001987 -0.000823  0.001763  0.002751 -0.000296   \n",
      "var_189  0.000946  0.000974 -0.004493 -0.001092  0.004441 -0.000158  0.001096   \n",
      "var_190  0.002386  0.001339 -0.003886 -0.001878  0.004571 -0.000847 -0.004974   \n",
      "var_191  1.000000 -0.001994 -0.002235 -0.001877  0.000870  0.002466  0.000906   \n",
      "var_192 -0.001994  1.000000  0.000202  0.002084 -0.004745 -0.001386 -0.000527   \n",
      "var_193 -0.002235  0.000202  1.000000  0.001586 -0.003143 -0.005308  0.005068   \n",
      "var_194 -0.001877  0.002084  0.001586  1.000000 -0.001201 -0.005040  0.000884   \n",
      "var_195  0.000870 -0.004745 -0.003143 -0.001201  1.000000  0.002517 -0.004170   \n",
      "var_196  0.002466 -0.001386 -0.005308 -0.005040  0.002517  1.000000 -0.000454   \n",
      "var_197  0.000906 -0.000527  0.005068  0.000884 -0.004170 -0.000454  1.000000   \n",
      "var_198 -0.000067  0.003451  0.001646  0.003194 -0.000536  0.000253  0.001183   \n",
      "var_199  0.003595 -0.001239 -0.000552 -0.005615  0.002042  0.000607  0.004991   \n",
      "\n",
      "          var_198   var_199  \n",
      "var_0   -0.005776  0.003850  \n",
      "var_1   -0.004861  0.002287  \n",
      "var_2   -0.000877  0.003855  \n",
      "var_3   -0.001651  0.000506  \n",
      "var_4   -0.001821 -0.000786  \n",
      "var_5   -0.000953  0.002767  \n",
      "var_6   -0.003025  0.006096  \n",
      "var_7    0.000650 -0.001457  \n",
      "var_8    0.002950  0.000854  \n",
      "var_9    0.002343  0.001070  \n",
      "var_10  -0.001546 -0.003561  \n",
      "var_11  -0.000968  0.000037  \n",
      "var_12   0.007545 -0.001016  \n",
      "var_13  -0.001896 -0.003060  \n",
      "var_14  -0.000571 -0.004266  \n",
      "var_15   0.000382  0.002613  \n",
      "var_16   0.002018 -0.000637  \n",
      "var_17   0.001190 -0.002404  \n",
      "var_18  -0.004619 -0.001419  \n",
      "var_19   0.001284 -0.002175  \n",
      "var_20   0.005043 -0.002770  \n",
      "var_21   0.001164 -0.002598  \n",
      "var_22  -0.005303  0.003568  \n",
      "var_23   0.001267  0.001140  \n",
      "var_24   0.001555 -0.000527  \n",
      "var_25  -0.001635  0.001498  \n",
      "var_26  -0.005124  0.003651  \n",
      "var_27  -0.002254 -0.000011  \n",
      "var_28  -0.002587  0.001034  \n",
      "var_29   0.001481  0.000516  \n",
      "...           ...       ...  \n",
      "var_170  0.000171  0.000970  \n",
      "var_171 -0.000382 -0.001210  \n",
      "var_172 -0.001549 -0.002997  \n",
      "var_173 -0.000410 -0.000286  \n",
      "var_174  0.002679 -0.002023  \n",
      "var_175  0.001439 -0.000117  \n",
      "var_176  0.002079  0.001157  \n",
      "var_177  0.000910 -0.001324  \n",
      "var_178  0.003372 -0.003479  \n",
      "var_179 -0.000959 -0.004120  \n",
      "var_180 -0.001624  0.004855  \n",
      "var_181 -0.001818 -0.000330  \n",
      "var_182 -0.001379  0.001640  \n",
      "var_183  0.002719 -0.001917  \n",
      "var_184 -0.004368  0.001839  \n",
      "var_185 -0.000830 -0.000142  \n",
      "var_186  0.000047 -0.002140  \n",
      "var_187 -0.001298 -0.000715  \n",
      "var_188  0.001503 -0.002079  \n",
      "var_189  0.000360  0.003081  \n",
      "var_190 -0.000153 -0.000404  \n",
      "var_191 -0.000067  0.003595  \n",
      "var_192  0.003451 -0.001239  \n",
      "var_193  0.001646 -0.000552  \n",
      "var_194  0.003194 -0.005615  \n",
      "var_195 -0.000536  0.002042  \n",
      "var_196  0.000253  0.000607  \n",
      "var_197  0.001183  0.004991  \n",
      "var_198  1.000000 -0.004731  \n",
      "var_199 -0.004731  1.000000  \n",
      "\n",
      "[200 rows x 200 columns]\n"
     ]
    }
   ],
   "source": [
    "print(correlation)"
   ]
  },
  {
   "cell_type": "code",
   "execution_count": 71,
   "metadata": {
    "collapsed": true
   },
   "outputs": [],
   "source": [
    "import seaborn as sns"
   ]
  },
  {
   "cell_type": "code",
   "execution_count": null,
   "metadata": {},
   "outputs": [],
   "source": [
    "sns.pairplot(features)"
   ]
  },
  {
   "cell_type": "code",
   "execution_count": null,
   "metadata": {
    "collapsed": true
   },
   "outputs": [],
   "source": []
  }
 ],
 "metadata": {
  "kernelspec": {
   "display_name": "Python 3",
   "language": "python",
   "name": "python3"
  },
  "language_info": {
   "codemirror_mode": {
    "name": "ipython",
    "version": 3
   },
   "file_extension": ".py",
   "mimetype": "text/x-python",
   "name": "python",
   "nbconvert_exporter": "python",
   "pygments_lexer": "ipython3",
   "version": "3.6.3"
  }
 },
 "nbformat": 4,
 "nbformat_minor": 1
}
